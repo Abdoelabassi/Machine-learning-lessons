{
  "cells": [
    {
      "cell_type": "markdown",
      "metadata": {
        "collapsed": false,
        "id": "9917JjDQCYfb"
      },
      "source": [
        "# Lesson 03: From Clustering To Classification"
      ]
    },
    {
      "cell_type": "markdown",
      "metadata": {
        "collapsed": false,
        "id": "-hAxyG_iCYfn"
      },
      "source": [
        "## k-nearest neighbor clustering\n",
        "Recap the kmeans clustering result:\n",
        "![by Weston.pace, from commons.wikimedia.org under CC-BY-SA 3.0](https://upload.wikimedia.org/wikipedia/commons/thumb/d/d2/K_Means_Example_Step_4.svg/278px-K_Means_Example_Step_4.svg.png)\n",
        "\n",
        "- in this case, we have $k=3$ clusters and hence have produced a dataset of form  \n",
        "$ \\mathcal{D}_{k=3} = \\{ \\langle \\vec{x}_{1}, f(\\vec{x}_{1}) \\rangle, \\dots \\} $ \n",
        "  + where $f$ denotes a class label of a cluster, e.g. if $\\vec{x}_{1}$ belongs to cluster $2$, then $f(\\vec{x}_{1}) = 2$\n",
        "  + in other words $f(\\vec{x}_{1})$ represents the mathematical mapping that our `kmeans` applies to our dataset\n",
        "  "
      ]
    },
    {
      "cell_type": "markdown",
      "metadata": {
        "collapsed": false,
        "id": "tv2NCLGnCYfq"
      },
      "source": [
        "## going for classification\n",
        "\n",
        "- to use this for classification, we want to start from a fully labelled dataset\n",
        "- given an unseen query point $\\vec{x}_{q}$, we would like to know what cluster it belongs to\n",
        "\n",
        "![by Sebastian Raschka, Stat 451: intro to ML](https://raw.githubusercontent.com/deeplearning540/lesson03/main/images/raschka_knn_p28.png)\n"
      ]
    },
    {
      "cell_type": "markdown",
      "metadata": {
        "collapsed": false,
        "id": "TxSVY9vHCYfs"
      },
      "source": [
        "- there are multiple options how to decide to which class the query point belongs to\n",
        "![by Sebastian Raschka, Stat 451: intro to ML](https://raw.githubusercontent.com/deeplearning540/lesson03/main/images/raschka_knn_p29.png)\n",
        "\n",
        "- **note** that the choice of $k$ determines the radius in this image above, here $k=5$ was set\n"
      ]
    },
    {
      "cell_type": "markdown",
      "metadata": {
        "collapsed": false,
        "id": "RIOtWQl_CYfv"
      },
      "source": [
        "- the plurality vote is mathematically known as the **mode** of a distribution of discrete numbers, i.e. the category with highest frequency wins\n",
        "\n",
        "![by Sebastian Raschka, Stat 451: intro to ML](https://raw.githubusercontent.com/deeplearning540/lesson03/main/images/raschka_knn_p30.png)\n",
        "\n",
        "- important: what hyper parameters govern the decision boundary?\n",
        "  + the choice of distance metric, e.g. euclidean distance\n",
        "  + the number of neighbors to consider, i.e. $k$\n",
        "  "
      ]
    },
    {
      "cell_type": "markdown",
      "metadata": {
        "collapsed": false,
        "id": "hkmsHItnCYfy"
      },
      "source": [
        "# Using kNN classification\n"
      ]
    },
    {
      "cell_type": "markdown",
      "metadata": {
        "collapsed": false,
        "id": "PKeO1bPYCYf0"
      },
      "source": [
        "## Data\n",
        "\n",
        "For the following, I will rely (again) on the Palmer penguin dataset obtained from [this repo](https://github.com/allisonhorst/palmerpenguins). To quote the repo:\n",
        "\n",
        "> Data were collected and made available by [Dr. Kristen Gorman](https://www.uaf.edu/cfos/people/faculty/detail/kristen-gorman.php)\n",
        "> and the [Palmer Station, Antarctica LTER](https://pal.lternet.edu/), a member of the [Long Term Ecological Research Network](https://lternet.edu/).\n"
      ]
    },
    {
      "cell_type": "code",
      "execution_count": null,
      "metadata": {
        "id": "DSKOVnIKCYf5",
        "outputId": "a4cc38ef-3879-4449-c5a8-0b21c593ff7f",
        "colab": {
          "base_uri": "https://localhost:8080/"
        }
      },
      "outputs": [
        {
          "output_type": "stream",
          "name": "stdout",
          "text": [
            "pandas version: 1.3.5\n"
          ]
        }
      ],
      "source": [
        "import pandas as pd\n",
        "print(\"pandas version:\", pd.__version__)\n"
      ]
    },
    {
      "cell_type": "code",
      "execution_count": null,
      "metadata": {
        "id": "JqNPpjndCYgA",
        "outputId": "6c55ca02-ff6a-4cdd-9ef3-9496368b0ed8",
        "colab": {
          "base_uri": "https://localhost:8080/"
        }
      },
      "outputs": [
        {
          "output_type": "stream",
          "name": "stdout",
          "text": [
            "  species     island  bill_length_mm  bill_depth_mm  flipper_length_mm  \\\n",
            "0  Adelie  Torgersen            39.1           18.7              181.0   \n",
            "1  Adelie  Torgersen            39.5           17.4              186.0   \n",
            "2  Adelie  Torgersen            40.3           18.0              195.0   \n",
            "4  Adelie  Torgersen            36.7           19.3              193.0   \n",
            "5  Adelie  Torgersen            39.3           20.6              190.0   \n",
            "\n",
            "   body_mass_g     sex  year species_  \n",
            "0       3750.0    male  2007   Adelie  \n",
            "1       3800.0  female  2007   Adelie  \n",
            "2       3250.0  female  2007   Adelie  \n",
            "4       3450.0  female  2007   Adelie  \n",
            "5       3650.0    male  2007   Adelie  \n"
          ]
        }
      ],
      "source": [
        "df = pd.read_csv(\"https://raw.githubusercontent.com/allisonhorst/palmerpenguins/master/inst/extdata/penguins.csv\")\n",
        "#let's remove the rows with NaN values\n",
        "df = df[ df.bill_length_mm.notnull() ]\n",
        "\n",
        "#convert species column to \n",
        "df[[\"species_\"]] = df[[\"species\"]].astype(\"category\")\n",
        "\n",
        "print(df.head())\n"
      ]
    },
    {
      "cell_type": "code",
      "execution_count": null,
      "metadata": {
        "id": "ey5CB2qKCYgD",
        "outputId": "5f0e1d74-1213-4bc6-af7e-9b6cc319b8a0",
        "colab": {
          "base_uri": "https://localhost:8080/"
        }
      },
      "outputs": [
        {
          "output_type": "stream",
          "name": "stdout",
          "text": [
            "species_ encoding:\n",
            "0 : Adelie\n",
            "1 : Chinstrap\n",
            "2 : Gentoo\n"
          ]
        }
      ],
      "source": [
        "print(\"species_ encoding:\")\n",
        "print(\"\\n\".join([ str(item)+\" : \"+df.species_.cat.categories[item] for item in range(len(df.species_.cat.categories)) ]))"
      ]
    },
    {
      "cell_type": "code",
      "execution_count": null,
      "metadata": {
        "id": "9XIsNNLUCYgG",
        "colab": {
          "base_uri": "https://localhost:8080/"
        },
        "outputId": "4d165021-5d6d-427f-cbc1-a6f0646811a5"
      },
      "outputs": [
        {
          "output_type": "stream",
          "name": "stdout",
          "text": [
            "seaborn version : 0.11.2\n"
          ]
        }
      ],
      "source": [
        "import matplotlib.pyplot as plt\n",
        "import seaborn as sns\n",
        "print(\"seaborn version :\", sns.__version__)"
      ]
    },
    {
      "cell_type": "code",
      "execution_count": null,
      "metadata": {
        "id": "vRP4yQYKCYgH",
        "colab": {
          "base_uri": "https://localhost:8080/"
        },
        "outputId": "481692b3-c137-46f8-beb6-da813bcf1ee0"
      },
      "outputs": [
        {
          "output_type": "stream",
          "name": "stdout",
          "text": [
            "(342, 2) (342,)\n"
          ]
        }
      ],
      "source": [
        "import numpy as np\n",
        "X = np.stack((df.bill_length_mm, df.flipper_length_mm), axis=-1)\n",
        "y=df.species_.cat.codes\n",
        "\n",
        "print(X.shape, y.shape)"
      ]
    },
    {
      "cell_type": "code",
      "execution_count": null,
      "metadata": {
        "id": "LxWObOoFCYgJ",
        "colab": {
          "base_uri": "https://localhost:8080/"
        },
        "outputId": "5cc94614-92c8-4a8e-f0fd-414788c6fdec"
      },
      "outputs": [
        {
          "output_type": "stream",
          "name": "stdout",
          "text": [
            "(307, 2)\n",
            "(307,)\n",
            "(35, 2) (35,)\n"
          ]
        }
      ],
      "source": [
        "from sklearn.neighbors import KNeighborsClassifier as knn\n",
        "from sklearn.model_selection import train_test_split\n",
        "\n",
        "Knn = knn(n_neighbors=3)\n",
        "\n",
        "X_train, X_test, y_train, y_test = train_test_split(X,y, test_size=0.1, random_state=20222204)\n",
        "\n",
        "print(X_train.shape)\n",
        "print(y_train.shape)\n",
        "print(X_test.shape, y_test.shape)\n"
      ]
    },
    {
      "cell_type": "code",
      "source": [
        "Knn.fit(X_train, y_train)\n"
      ],
      "metadata": {
        "colab": {
          "base_uri": "https://localhost:8080/"
        },
        "id": "i1crj2fDFhhb",
        "outputId": "e2ef4b3b-bee8-4acb-82c8-76c8a08d1af2"
      },
      "execution_count": null,
      "outputs": [
        {
          "output_type": "execute_result",
          "data": {
            "text/plain": [
              "KNeighborsClassifier(n_neighbors=3)"
            ]
          },
          "metadata": {},
          "execution_count": 7
        }
      ]
    },
    {
      "cell_type": "code",
      "source": [
        "x0_test = X_test[0].reshape(1,2)\n",
        "y0_test_hat = Knn.predict(x0_test)\n",
        "\n",
        "print(f\"preidcted label : {y0_test_hat} , true label {y_test.values[0]} \")"
      ],
      "metadata": {
        "colab": {
          "base_uri": "https://localhost:8080/"
        },
        "id": "FPC14IyiFrFM",
        "outputId": "ea2f2b51-2665-48f4-d6f4-c5b0b948e088"
      },
      "execution_count": null,
      "outputs": [
        {
          "output_type": "stream",
          "name": "stdout",
          "text": [
            "preidcted label : [0] , true label 0 \n"
          ]
        }
      ]
    },
    {
      "cell_type": "code",
      "source": [
        "y_test_hat = Knn.predict(X_test)\n",
        "\n",
        "n_correct = (y_test_hat == y_test.values).sum()\n",
        "\n",
        "print(f\"{n_correct} out of {y_test.size} is correctly predicted \")"
      ],
      "metadata": {
        "colab": {
          "base_uri": "https://localhost:8080/"
        },
        "id": "zuzIgVuCHUD4",
        "outputId": "68aa009f-df77-4eea-a214-32d1ab491c79"
      },
      "execution_count": null,
      "outputs": [
        {
          "output_type": "stream",
          "name": "stdout",
          "text": [
            "32 out of 35 is correctly predicted \n"
          ]
        }
      ]
    },
    {
      "cell_type": "markdown",
      "metadata": {
        "collapsed": false,
        "id": "-lhQJ4LCCYgK"
      },
      "source": [
        "# Further Reading\n",
        "\n",
        "- some parts of this material were inspired by [Sebastian Raschka](https://sebastianraschka.com)\n",
        "  + confusion matrix [lesson 12.1](https://www.youtube.com/watch?v=07dtryhNGms)\n",
        "  + precision, recall and F1 score [lesson 12.2](https://youtu.be/yEw9oDdJkT0)\n",
        "  \n",
        "- a generally good resource \n",
        "  + [Confusion_matrix](https://en.wikipedia.org/wiki/Confusion_matrix)\n",
        "  + [precision and recall](https://en.wikipedia.org/wiki/Precision_and_recall)\n",
        "  \n",
        "- all of the above is nicely implemented and [documented](https://scikit-learn.org/stable/modules/model_evaluation.html#classification-metrics)"
      ]
    },
    {
      "cell_type": "markdown",
      "source": [
        "##Evaluating the classification"
      ],
      "metadata": {
        "id": "iul619iZI2qz"
      }
    },
    {
      "cell_type": "code",
      "source": [
        "binary_test_hat = (y_test_hat < 1).astype(np.int8)\n",
        "binary_test = (y_test.values < 1).astype(np.int8)\n",
        "\n",
        "print(binary_test_hat)\n",
        "print(binary_test)"
      ],
      "metadata": {
        "colab": {
          "base_uri": "https://localhost:8080/"
        },
        "id": "-Ft4jdk7I56X",
        "outputId": "cbaab668-ff7a-4c05-b0c1-ef4529d84455"
      },
      "execution_count": null,
      "outputs": [
        {
          "output_type": "stream",
          "name": "stdout",
          "text": [
            "[1 0 0 0 1 1 0 0 1 1 1 1 0 0 1 0 0 0 0 1 1 0 0 1 1 1 1 0 0 0 1 1 1 0 1]\n",
            "[1 0 0 0 1 1 0 0 1 1 0 0 0 0 1 0 0 0 0 1 1 0 1 1 1 1 1 0 0 0 1 1 1 0 1]\n"
          ]
        }
      ]
    },
    {
      "cell_type": "code",
      "source": [
        "from sklearn.metrics import confusion_matrix\n",
        "\n",
        "cm = confusion_matrix(binary_test, binary_test_hat)\n",
        "print(cm)"
      ],
      "metadata": {
        "colab": {
          "base_uri": "https://localhost:8080/"
        },
        "id": "P1yzRnYlK5fk",
        "outputId": "2a423ad4-2eac-486e-d5a5-fe2b74997f8f"
      },
      "execution_count": null,
      "outputs": [
        {
          "output_type": "stream",
          "name": "stdout",
          "text": [
            "[[16  2]\n",
            " [ 1 16]]\n"
          ]
        }
      ]
    },
    {
      "cell_type": "code",
      "source": [
        "tn = cm[0,0]\n",
        "tp = cm[1,1]\n",
        "fn= cm[1,0]\n",
        "fp = cm[0,1]"
      ],
      "metadata": {
        "id": "4u9b_l3ULFaL"
      },
      "execution_count": null,
      "outputs": []
    },
    {
      "cell_type": "code",
      "source": [
        "manual_tp = np.logical_and(binary_test == 1, binary_test_hat == 1).sum()\n",
        "assert manual_tp == tp"
      ],
      "metadata": {
        "id": "9ski4CJ_L-6A"
      },
      "execution_count": null,
      "outputs": []
    },
    {
      "cell_type": "code",
      "source": [
        "manual_fp = np.logical_and(binary_test == 0, binary_test_hat == 1).sum()\n",
        "assert manual_fp == fp"
      ],
      "metadata": {
        "id": "4mHLXVuJMPkC"
      },
      "execution_count": null,
      "outputs": []
    },
    {
      "cell_type": "code",
      "source": [
        "manual_fn = np.logical_and(binary_test == 1, binary_test_hat == 0).sum()\n",
        "assert manual_fn == fn"
      ],
      "metadata": {
        "id": "MmWUeTFXMi5M"
      },
      "execution_count": null,
      "outputs": []
    },
    {
      "cell_type": "code",
      "source": [
        "manual_tn = np.logical_and(binary_test == 0, binary_test_hat == 0).sum()\n",
        "assert manual_tn == tn"
      ],
      "metadata": {
        "id": "ToOVJ8MlNHkb"
      },
      "execution_count": null,
      "outputs": []
    },
    {
      "cell_type": "markdown",
      "source": [
        "![confusion](https://raw.githubusercontent.com/deeplearning540/lesson03/main/images/viz-confusion-matrix.png)"
      ],
      "metadata": {
        "id": "ivNBOONYN4Dh"
      }
    },
    {
      "cell_type": "code",
      "source": [
        "from sklearn.metrics import ConfusionMatrixDisplay\n",
        "\n",
        "dip = ConfusionMatrixDisplay(confusion_matrix=cm, display_labels=['not Adele', 'Adele'])\n",
        "dip.plot()"
      ],
      "metadata": {
        "colab": {
          "base_uri": "https://localhost:8080/",
          "height": 300
        },
        "id": "_pqbqR37OcAn",
        "outputId": "e9c678be-b2ea-465a-cc08-fc03b867f2e9"
      },
      "execution_count": null,
      "outputs": [
        {
          "output_type": "execute_result",
          "data": {
            "text/plain": [
              "<sklearn.metrics._plot.confusion_matrix.ConfusionMatrixDisplay at 0x7fca1e2bfc50>"
            ]
          },
          "metadata": {},
          "execution_count": 17
        },
        {
          "output_type": "display_data",
          "data": {
            "text/plain": [
              "<Figure size 432x288 with 2 Axes>"
            ],
            "image/png": "[encoded data removed]"
          },
          "metadata": {
            "needs_background": "light"
          }
        }
      ]
    },
    {
      "cell_type": "markdown",
      "source": [
        "##Accuracy"
      ],
      "metadata": {
        "id": "WpjwtLzUQkaw"
      }
    },
    {
      "cell_type": "code",
      "source": [
        "total = float(cm.sum())\n",
        "acc = (tp+tn)/total\n",
        "\n",
        "print(\"accuracy :\", acc)"
      ],
      "metadata": {
        "colab": {
          "base_uri": "https://localhost:8080/"
        },
        "id": "YqJS-Yv6Qo6q",
        "outputId": "c57e15e3-9ce6-4963-832d-9160dc6bf58d"
      },
      "execution_count": null,
      "outputs": [
        {
          "output_type": "stream",
          "name": "stdout",
          "text": [
            "accuracy : 0.9142857142857143\n"
          ]
        }
      ]
    },
    {
      "cell_type": "markdown",
      "source": [
        "## recall ( known as the postive rate)\n",
        "\n",
        "How many of the true class samples, do I get right with  the prediction?"
      ],
      "metadata": {
        "id": "2A3-J83Xr096"
      }
    },
    {
      "cell_type": "code",
      "source": [
        "cond_true = tp+ fn\n",
        "exp_recall = tp/cond_true\n",
        "\n",
        "print(f\"our Knn algorithm produce a test recall of {exp_recall} \")"
      ],
      "metadata": {
        "colab": {
          "base_uri": "https://localhost:8080/"
        },
        "id": "ReWOT8vatVMr",
        "outputId": "68c8d255-884c-4fbb-977d-2f0a8cc534f0"
      },
      "execution_count": null,
      "outputs": [
        {
          "output_type": "stream",
          "name": "stdout",
          "text": [
            "our Knn algorithm produce a test recall of 0.9411764705882353 \n"
          ]
        }
      ]
    },
    {
      "cell_type": "code",
      "source": [
        "from sklearn.metrics import recall_score\n",
        "\n",
        "obs_recall = recall_score(binary_test, binary_test_hat)\n",
        "\n",
        "assert exp_recall == obs_recall"
      ],
      "metadata": {
        "id": "z-L6OX-Gu4M1"
      },
      "execution_count": null,
      "outputs": []
    },
    {
      "cell_type": "markdown",
      "source": [
        "## Precision\n",
        "\n",
        "from all I predicted positive, how many I correctly predicted"
      ],
      "metadata": {
        "id": "dXzCpPmxy8Xi"
      }
    },
    {
      "cell_type": "code",
      "source": [
        "pred_pos = tp + fp\n",
        "\n",
        "precision = tp/pred_pos\n",
        "\n",
        "print(f'our algorithm procued a test of precision {precision} ')"
      ],
      "metadata": {
        "colab": {
          "base_uri": "https://localhost:8080/"
        },
        "id": "pJ-9vzgb3FH4",
        "outputId": "f8f081d2-b504-4f94-cf09-ddd18b5b22af"
      },
      "execution_count": null,
      "outputs": [
        {
          "output_type": "stream",
          "name": "stdout",
          "text": [
            "pur algorithm procued a test of precision 0.8888888888888888 \n"
          ]
        }
      ]
    },
    {
      "cell_type": "markdown",
      "source": [
        "## F1 score\n",
        "$F_1 = 2\\cdot\\frac{PRE \\cdot REC}{PRE+REC}$"
      ],
      "metadata": {
        "id": "j0NbjRJG5nWE"
      }
    },
    {
      "cell_type": "code",
      "source": [
        "f1 = 2*precision*exp_recall/(precision + exp_recall)\n",
        "\n",
        "print(f\"our Knn algorithm procued a test f1 of {f1} \")"
      ],
      "metadata": {
        "colab": {
          "base_uri": "https://localhost:8080/"
        },
        "id": "kwipu6m46QR3",
        "outputId": "5119987e-b580-439c-f270-0be21af48449"
      },
      "execution_count": null,
      "outputs": [
        {
          "output_type": "stream",
          "name": "stdout",
          "text": [
            "our Knn algorithm procued a test f1 of 0.9142857142857143 \n"
          ]
        }
      ]
    }
  ],
  "metadata": {
    "kernelspec": {
      "argv": [
        "python",
        "-m",
        "ipykernel_launcher",
        "-f",
        "{connection_file}"
      ],
      "display_name": "Python 3",
      "env": null,
      "interrupt_mode": "signal",
      "language": "python",
      "metadata": null,
      "name": "python3"
    },
    "name": "lesson.ipynb",
    "colab": {
      "name": "lesson03_part1.ipynb",
      "provenance": [],
      "collapsed_sections": []
    }
  },
  "nbformat": 4,
  "nbformat_minor": 0
}