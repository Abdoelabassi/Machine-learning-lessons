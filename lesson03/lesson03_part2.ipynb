{
  "cells": [
    {
      "cell_type": "markdown",
      "metadata": {
        "collapsed": false,
        "id": "3qfpgz0CgRd_"
      },
      "source": [
        "# Lesson 04: Classification Performance ROCs\n",
        "\n",
        "- evaluating and comparing trained models is of extreme importance when deciding in favor/against\n",
        "  + model architectures\n",
        "  + hyperparameter sets\n",
        "  \n",
        "- evaluating performance or quality of prediction is performed with a myriad of tests, figure-of-merits and even statistical hypothesis testing\n",
        "- in the following, the rather popular \"Receiver Operating Characteristic\" curve (spoken ROC curve)\n",
        "- the ROC was invented in WWII by radar engineers when seeking to detect enemy vessels and comparing different devices/techniques\n"
      ]
    },
    {
      "cell_type": "markdown",
      "metadata": {
        "collapsed": false,
        "id": "lRyA85jhgReI"
      },
      "source": [
        "## preface\n",
        "- two main ingredients to ROC:\n",
        "\n",
        "    + TPR = True Positive Rate\n",
        "    + FPR = False Positive Rate\n",
        "    "
      ]
    },
    {
      "cell_type": "markdown",
      "metadata": {
        "collapsed": false,
        "id": "MC8FS08RgReK"
      },
      "source": [
        "![from Wikipedia, ROC article](https://raw.githubusercontent.com/deeplearning540/lesson04/main/images/Screenshot_2021-02-24-Wikipedia-ROC.png)\n",
        "\n",
        "- $TPR = \\frac{TP}{TP+FN}$ also known as `recall`, always within $[0,1]$\n",
        "- $FPR = \\frac{FP}{FP+TN}$ also known as `fall-out`, always within $[0,1]$"
      ]
    },
    {
      "cell_type": "markdown",
      "metadata": {
        "collapsed": false,
        "id": "rP0PxI2ygReL"
      },
      "source": [
        "## Data\n",
        "\n",
        "For the following, I will rely (again) on the Palmer penguin dataset obtained from [this repo](https://github.com/allisonhorst/palmerpenguins). To quote the repo:\n",
        "\n",
        "> Data were collected and made available by [Dr. Kristen Gorman](https://www.uaf.edu/cfos/people/faculty/detail/kristen-gorman.php)\n",
        "> and the [Palmer Station, Antarctica LTER](https://pal.lternet.edu/), a member of the [Long Term Ecological Research Network](https://lternet.edu/).\n"
      ]
    },
    {
      "cell_type": "code",
      "execution_count": 1,
      "metadata": {
        "id": "Ajdwqw8TgReM"
      },
      "outputs": [],
      "source": [
        "import pandas as pd\n",
        "import numpy as np"
      ]
    },
    {
      "cell_type": "code",
      "execution_count": 2,
      "metadata": {
        "id": "pmfKmBtugReO"
      },
      "outputs": [],
      "source": [
        "df = pd.read_csv(\"https://raw.githubusercontent.com/allisonhorst/palmerpenguins/master/inst/extdata/penguins.csv\")\n",
        "#let's remove the rows with NaN values\n",
        "df = df[ df.bill_length_mm.notnull() ]\n",
        "#convert species column to \n",
        "df[[\"species_\"]] = df[[\"species\"]].astype(\"category\")\n"
      ]
    },
    {
      "cell_type": "code",
      "execution_count": 3,
      "metadata": {
        "id": "SPdILffFgReQ",
        "outputId": "714ae65f-d6b7-42a1-c9b4-8f1c14cd26e6",
        "colab": {
          "base_uri": "https://localhost:8080/"
        }
      },
      "outputs": [
        {
          "output_type": "stream",
          "name": "stdout",
          "text": [
            "(342, 9)\n",
            "(342,)\n",
            "  species     island  bill_length_mm  bill_depth_mm  flipper_length_mm  \\\n",
            "0  Adelie  Torgersen            39.1           18.7              181.0   \n",
            "1  Adelie  Torgersen            39.5           17.4              186.0   \n",
            "2  Adelie  Torgersen            40.3           18.0              195.0   \n",
            "4  Adelie  Torgersen            36.7           19.3              193.0   \n",
            "5  Adelie  Torgersen            39.3           20.6              190.0   \n",
            "\n",
            "   body_mass_g     sex  year species_  is_adelie  \n",
            "0       3750.0    male  2007   Adelie          1  \n",
            "1       3800.0  female  2007   Adelie          1  \n",
            "2       3250.0  female  2007   Adelie          1  \n",
            "4       3450.0  female  2007   Adelie          1  \n",
            "5       3650.0    male  2007   Adelie          1  \n"
          ]
        }
      ],
      "source": [
        "print(df.shape)\n",
        "print((df.species_.cat.codes < 1).shape)\n",
        "\n",
        "#create binary column\n",
        "df[\"is_adelie\"] = (df.species_.cat.codes < 1).astype(np.int8)\n",
        "\n",
        "print(df.head())\n"
      ]
    },
    {
      "cell_type": "code",
      "execution_count": 4,
      "metadata": {
        "id": "gOAcLoyFgReS",
        "outputId": "05d7e1d5-2e95-479b-a5d8-8fd4d53bb5af",
        "colab": {
          "base_uri": "https://localhost:8080/"
        }
      },
      "outputs": [
        {
          "output_type": "stream",
          "name": "stdout",
          "text": [
            "seaborn version: 0.11.2\n"
          ]
        }
      ],
      "source": [
        "import matplotlib.pyplot as plt\n",
        "plt.style.use('dark_background')\n",
        "import seaborn as sns\n",
        "print(f'seaborn version: {sns.__version__}')"
      ]
    },
    {
      "cell_type": "code",
      "execution_count": 5,
      "metadata": {
        "id": "FZrI0XtYgReU"
      },
      "outputs": [],
      "source": [
        "from sklearn.neighbors import KNeighborsClassifier as knn\n",
        "from sklearn.model_selection import train_test_split\n",
        "\n",
        "kmeans = knn(n_neighbors=5)"
      ]
    },
    {
      "cell_type": "code",
      "execution_count": 6,
      "metadata": {
        "id": "0a5NbGndgReV",
        "outputId": "65d28376-1d8a-4d0b-a682-d76fc01b307f",
        "colab": {
          "base_uri": "https://localhost:8080/"
        }
      },
      "outputs": [
        {
          "output_type": "stream",
          "name": "stdout",
          "text": [
            "(342, 2)\n",
            "(342,)\n"
          ]
        }
      ],
      "source": [
        "#this time we train the knn algorithm, i.e. an unsupervised method is used in a supervised fashion\n",
        "#prepare the data\n",
        "X = np.stack((df.bill_length_mm, df.flipper_length_mm), axis=-1)\n",
        "y = df.is_adelie\n",
        "\n",
        "print(X.shape)\n",
        "print(y.shape)\n"
      ]
    },
    {
      "cell_type": "code",
      "execution_count": 7,
      "metadata": {
        "id": "01q8UH30gReX",
        "outputId": "da035199-e2aa-4114-926a-c80520f0ab2a",
        "colab": {
          "base_uri": "https://localhost:8080/"
        }
      },
      "outputs": [
        {
          "output_type": "stream",
          "name": "stdout",
          "text": [
            "(290, 2)\n",
            "(290,)\n",
            "(52, 2)\n",
            "(52,)\n"
          ]
        }
      ],
      "source": [
        "X_train, X_test, y_train, y_test = train_test_split(X, y,\n",
        "                                                    test_size = .15,\n",
        "                                                    random_state = 20220427)\n",
        "\n",
        "print(X_train.shape)\n",
        "print(y_train.shape)\n",
        "\n",
        "\n",
        "print(X_test.shape)\n",
        "print(y_test.shape)\n",
        "\n"
      ]
    },
    {
      "cell_type": "code",
      "execution_count": 8,
      "metadata": {
        "id": "NEIOaU9vgReY"
      },
      "outputs": [],
      "source": [
        "kmeans = kmeans.fit(X_train, y_train)\n"
      ]
    },
    {
      "cell_type": "code",
      "execution_count": 9,
      "metadata": {
        "id": "S84cznyngReZ",
        "outputId": "05457451-4c4d-4066-f3e4-e88f655c00bc",
        "colab": {
          "base_uri": "https://localhost:8080/"
        }
      },
      "outputs": [
        {
          "output_type": "stream",
          "name": "stdout",
          "text": [
            "[[28  1]\n",
            " [ 1 22]]\n"
          ]
        }
      ],
      "source": [
        "from sklearn.metrics import confusion_matrix, ConfusionMatrixDisplay\n",
        "\n",
        "y_test_hat = kmeans.predict(X_test)\n",
        "\n",
        "cm = confusion_matrix( y_test, y_test_hat )\n",
        "\n",
        "print(cm)\n"
      ]
    },
    {
      "cell_type": "code",
      "execution_count": 10,
      "metadata": {
        "id": "mwEMv35ygRea",
        "outputId": "6fb1146b-8e22-4671-88c6-dc9e57d6ef4e",
        "colab": {
          "base_uri": "https://localhost:8080/",
          "height": 296
        }
      },
      "outputs": [
        {
          "output_type": "stream",
          "name": "stdout",
          "text": [
            "1\n"
          ]
        },
        {
          "output_type": "display_data",
          "data": {
            "text/plain": [
              "<Figure size 432x288 with 2 Axes>"
            ],
            "image/png": "[encoded data removed]"
          },
          "metadata": {}
        }
      ],
      "source": [
        "from sklearn.metrics import ConfusionMatrixDisplay\n",
        "disp = ConfusionMatrixDisplay(confusion_matrix=cm)\n",
        "disp.plot()\n",
        "print(int(True))"
      ]
    },
    {
      "cell_type": "markdown",
      "source": [
        "### Starting to ROC\n",
        "\n",
        "Let's take 4 samples of different size from our test set"
      ],
      "metadata": {
        "id": "o_f61Bkykr0k"
      }
    },
    {
      "cell_type": "code",
      "execution_count": 14,
      "metadata": {
        "id": "9cGjhCFZgRec"
      },
      "outputs": [],
      "source": [
        "n_exp = 4\n",
        "\n",
        "X_test_exp = np.split(X_test[:32,...], n_exp, axis=0)"
      ]
    },
    {
      "cell_type": "code",
      "source": [
        "y_test_exp = np.split(y_test.values[:32,...], n_exp, axis=0)\n",
        "\n",
        "print(X_test_exp[0].shape)\n",
        "print(y_test_exp[0].shape)"
      ],
      "metadata": {
        "colab": {
          "base_uri": "https://localhost:8080/"
        },
        "id": "DjxjPX8plIY9",
        "outputId": "242535a7-f372-4cf3-bae8-dcda23342409"
      },
      "execution_count": 17,
      "outputs": [
        {
          "output_type": "stream",
          "name": "stdout",
          "text": [
            "(8, 2)\n",
            "(8,)\n"
          ]
        }
      ]
    },
    {
      "cell_type": "code",
      "source": [
        "y_test_hat = kmeans.predict(X_test)\n",
        "\n",
        "y_test_hat_exp = np.split(y_test_hat[:32,...], n_exp, axis=0)"
      ],
      "metadata": {
        "id": "vTfl2bKumGh2"
      },
      "execution_count": 18,
      "outputs": []
    },
    {
      "cell_type": "code",
      "source": [
        "from sklearn.metrics import recall_score as tpr\n",
        "\n",
        "def fpr(y_true, y_pred):\n",
        "  \"\"\" calculate false positive rate using confusion matrix for binary classification\"\"\"\n",
        "  cm = confusion_matrix(y_true, y_pred)\n",
        "  assert cm.shape == (2,2)\n",
        "  cond_pos = c[:,1].sum()\n",
        "  fpr= cm[0,1]/cond_pos\n",
        "  return fpr\n",
        "\n",
        "\n",
        "fpr_=[]\n",
        "tpr_=[]\n",
        "\n",
        "for i in range(len(y_test_exp)):\n",
        "\n",
        "  fpr_.append( fpr(y_test_exp[i], y_test_hat_exp[i]) )\n",
        "\n",
        "  tpr_.append( tpr(y_test_exp[i], y_test_hat_exp[i]) )\n",
        "\n",
        "print(fpr_)\n",
        "print(tpr_)"
      ],
      "metadata": {
        "colab": {
          "base_uri": "https://localhost:8080/"
        },
        "id": "KNXmZUBPnxXe",
        "outputId": "648191ba-b1ad-45be-beb6-237d52e4c8bb"
      },
      "execution_count": 23,
      "outputs": [
        {
          "output_type": "stream",
          "name": "stdout",
          "text": [
            "[0.0, 0.14285714285714285, 0.0, 0.0]\n",
            "[1.0, 1.0, 1.0, 0.75]\n"
          ]
        }
      ]
    },
    {
      "cell_type": "code",
      "source": [
        "f,ax = plt.subplots(1)\n",
        "\n",
        "ax.plot(fpr_, tpr_, \"ro\", markersize=10)\n",
        "ax.set_xlabel(\"False Positive Rate\")\n",
        "ax.set_ylabel(\"True Postive Rate\")\n",
        "ax.set_xlim(0,1)\n",
        "ax.set_ylim(0,1)\n",
        "plt.show()"
      ],
      "metadata": {
        "colab": {
          "base_uri": "https://localhost:8080/",
          "height": 283
        },
        "id": "ESWJnGMLrMVt",
        "outputId": "2fc8df49-b154-45cf-ed42-73d3ffe74bac"
      },
      "execution_count": 24,
      "outputs": [
        {
          "output_type": "display_data",
          "data": {
            "text/plain": [
              "<Figure size 432x288 with 1 Axes>"
            ],
            "image/png": "[encoded data removed]"
          },
          "metadata": {}
        }
      ]
    },
    {
      "cell_type": "markdown",
      "metadata": {
        "collapsed": false,
        "id": "2vOMpgG-gReb"
      },
      "source": [
        "# Further Reading\n",
        "\n",
        "- some parts of this material were inspired by [Sebastian Raschka](https://sebastianraschka.com)\n",
        "  + [lecture 12.4, Receiver Operating Curve](https://youtu.be/GdSEkiArM3k)\n",
        "  \n",
        "- a generally good resource \n",
        "  + [Confusion_matrix](https://en.wikipedia.org/wiki/Confusion_matrix)\n",
        "  \n",
        "- all of the above is nicely implemented and documented \n",
        "  + [sklearn examples](https://scikit-learn.org/stable/auto_examples/model_selection/plot_roc.html#sphx-glr-auto-examples-model-selection-plot-roc-py)\n",
        "  + [roc_curve API docs](https://scikit-learn.org/stable/modules/generated/sklearn.metrics.roc_curve.html#sklearn.metrics.roc_curve)\n",
        "\n",
        "- [extensive discussion of ROC](https://stackabuse.com/understanding-roc-curves-with-python/)\n",
        "  "
      ]
    },
    {
      "cell_type": "code",
      "source": [
        "from sklearn.metrics import roc_curve\n",
        "probas = kmeans.predict_proba(X_test)\n",
        "pos_pred = probas[:,-1]\n",
        "\n",
        "fpr, tpr, thr = roc_curve(y_test, pos_pred)\n",
        "\n",
        "print(\"false postive rate :\", fpr)\n",
        "print(\"True positive rate :\", tpr)\n",
        "print(\"Decision Tresholds :\", thr)\n"
      ],
      "metadata": {
        "colab": {
          "base_uri": "https://localhost:8080/"
        },
        "id": "IS2J1slfv-Qp",
        "outputId": "d8d880c6-7cfe-4adc-bb90-1d22bbc1c410"
      },
      "execution_count": 35,
      "outputs": [
        {
          "output_type": "stream",
          "name": "stdout",
          "text": [
            "false postive rate : [0.         0.03448276 0.06896552 0.24137931 1.        ]\n",
            "True positive rate : [0.         0.95652174 0.95652174 0.95652174 1.        ]\n",
            "Decision Tresholds : [2.  1.  0.4 0.2 0. ]\n"
          ]
        }
      ]
    },
    {
      "cell_type": "code",
      "source": [
        "from sklearn.metrics import plot_roc_curve\n",
        "\n",
        "plot_roc_curve(kmeans, X_test, y_test)"
      ],
      "metadata": {
        "colab": {
          "base_uri": "https://localhost:8080/",
          "height": 351
        },
        "id": "0hSnaRq4xu7r",
        "outputId": "6aac3361-6088-44bd-f4c4-cba01386533f"
      },
      "execution_count": 36,
      "outputs": [
        {
          "output_type": "stream",
          "name": "stderr",
          "text": [
            "/usr/local/lib/python3.7/dist-packages/sklearn/utils/deprecation.py:87: FutureWarning: Function plot_roc_curve is deprecated; Function :func:`plot_roc_curve` is deprecated in 1.0 and will be removed in 1.2. Use one of the class methods: :meth:`sklearn.metric.RocCurveDisplay.from_predictions` or :meth:`sklearn.metric.RocCurveDisplay.from_estimator`.\n",
            "  warnings.warn(msg, category=FutureWarning)\n"
          ]
        },
        {
          "output_type": "execute_result",
          "data": {
            "text/plain": [
              "<sklearn.metrics._plot.roc_curve.RocCurveDisplay at 0x7fd66f18a5d0>"
            ]
          },
          "metadata": {},
          "execution_count": 36
        },
        {
          "output_type": "display_data",
          "data": {
            "text/plain": [
              "<Figure size 432x288 with 1 Axes>"
            ],
            "image/png": "[encoded data removed]"
          },
          "metadata": {}
        }
      ]
    },
    {
      "cell_type": "markdown",
      "source": [
        "<h1><a href=\"https://upload.wikimedia.org/wikipedia/commons/thumb/1/13/Roc_curve.svg/220px-Roc_curve.svg.png\"><img src=\"https://upload.wikimedia.org/wikipedia/commons/thumb/1/13/Roc_curve.svg/220px-Roc_curve.svg.png\"/></a>\n",
        "</h1>\n",
        "\n",
        "\n",
        "*   nearest neigbor clustering algorithm are able to offer a probabilistic score for each predicted outcome based on the neigborhood chosen\n",
        "*   the ROC is an envelope that describes how well a classifier perfomrs given a fixed testset\n",
        "\n",
        "ROC expresses the blance between true postives and false postives\n",
        "\n",
        "\n",
        "\n"
      ],
      "metadata": {
        "id": "l4Tb-0vUzWQm"
      }
    },
    {
      "cell_type": "code",
      "source": [
        ""
      ],
      "metadata": {
        "id": "f3PS6POQ1iEo"
      },
      "execution_count": null,
      "outputs": []
    }
  ],
  "metadata": {
    "kernelspec": {
      "argv": [
        "python",
        "-m",
        "ipykernel_launcher",
        "-f",
        "{connection_file}"
      ],
      "display_name": "Python 3",
      "env": null,
      "interrupt_mode": "signal",
      "language": "python",
      "metadata": null,
      "name": "python3"
    },
    "name": "lesson.ipynb",
    "colab": {
      "name": "lesson04.ipynb",
      "provenance": [],
      "collapsed_sections": []
    }
  },
  "nbformat": 4,
  "nbformat_minor": 0
}